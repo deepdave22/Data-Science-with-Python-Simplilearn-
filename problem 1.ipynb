{
 "cells": [
  {
   "cell_type": "code",
   "execution_count": null,
   "id": "d8655bfc",
   "metadata": {},
   "outputs": [],
   "source": [
    "#to find the mean of 40 working individuals "
   ]
  },
  {
   "cell_type": "code",
   "execution_count": 12,
   "id": "a8f71e8d",
   "metadata": {},
   "outputs": [],
   "source": [
    "import random\n",
    "import math"
   ]
  },
  {
   "cell_type": "code",
   "execution_count": 3,
   "id": "689f0c58",
   "metadata": {},
   "outputs": [],
   "source": [
    "x= random.randint(0,40)"
   ]
  },
  {
   "cell_type": "code",
   "execution_count": 5,
   "id": "0e6185a7",
   "metadata": {},
   "outputs": [
    {
     "name": "stdout",
     "output_type": "stream",
     "text": [
      "24\n"
     ]
    }
   ],
   "source": [
    "print (x)"
   ]
  },
  {
   "cell_type": "code",
   "execution_count": 6,
   "id": "2f664a67",
   "metadata": {},
   "outputs": [],
   "source": [
    "lst = [random.randint(0,40) for x in range(40)]\n"
   ]
  },
  {
   "cell_type": "code",
   "execution_count": 7,
   "id": "12eab185",
   "metadata": {},
   "outputs": [
    {
     "name": "stdout",
     "output_type": "stream",
     "text": [
      "[16, 38, 34, 40, 37, 6, 27, 8, 35, 3, 24, 4, 32, 3, 19, 20, 25, 4, 36, 28, 34, 24, 1, 23, 38, 15, 18, 21, 27, 14, 21, 34, 29, 17, 26, 6, 9, 33, 4, 0]\n"
     ]
    }
   ],
   "source": [
    "print (lst)"
   ]
  },
  {
   "cell_type": "code",
   "execution_count": 13,
   "id": "d9cfb596",
   "metadata": {},
   "outputs": [],
   "source": [
    "data=[16, 38, 34, 40, 37, 6, 27, 8, 35, 3, 24, 4, 32, 3, 19, 20, 25, 4, 36, 28, 34, 24, 1, 23, 38, 15, 18, 21, 27, 14, 21, 34, 29, 17, 26, 6, 9, 33, 4, 0]"
   ]
  },
  {
   "cell_type": "code",
   "execution_count": 14,
   "id": "b62cee82",
   "metadata": {},
   "outputs": [],
   "source": [
    "n=len (data)"
   ]
  },
  {
   "cell_type": "code",
   "execution_count": 15,
   "id": "54cc7782",
   "metadata": {},
   "outputs": [],
   "source": [
    "sample_mean =sum(data)/n"
   ]
  },
  {
   "cell_type": "code",
   "execution_count": 16,
   "id": "0c85cba1",
   "metadata": {},
   "outputs": [
    {
     "name": "stdout",
     "output_type": "stream",
     "text": [
      "sample mean:  20.825\n"
     ]
    }
   ],
   "source": [
    "print('sample mean: ',sample_mean)"
   ]
  },
  {
   "cell_type": "code",
   "execution_count": null,
   "id": "a75e29d9",
   "metadata": {},
   "outputs": [],
   "source": []
  }
 ],
 "metadata": {
  "kernelspec": {
   "display_name": "Python 3 (ipykernel)",
   "language": "python",
   "name": "python3"
  },
  "language_info": {
   "codemirror_mode": {
    "name": "ipython",
    "version": 3
   },
   "file_extension": ".py",
   "mimetype": "text/x-python",
   "name": "python",
   "nbconvert_exporter": "python",
   "pygments_lexer": "ipython3",
   "version": "3.10.2"
  }
 },
 "nbformat": 4,
 "nbformat_minor": 5
}
